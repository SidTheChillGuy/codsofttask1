{
 "cells": [
  {
   "cell_type": "markdown",
   "metadata": {},
   "source": [
    "https://www.kaggle.com/datasets/hijest/genre-classification-dataset-imdb/data"
   ]
  },
  {
   "cell_type": "markdown",
   "metadata": {},
   "source": [
    "Importing relevent libraries"
   ]
  },
  {
   "cell_type": "code",
   "execution_count": 10,
   "metadata": {},
   "outputs": [],
   "source": [
    "import pandas as pd\n",
    "import numpy as np\n",
    "import matplotlib.pyplot as plt\n",
    "import nltk\n",
    "from nltk.corpus import stopwords\n",
    "from nltk import SnowballStemmer\n",
    "\n",
    "from sklearn.feature_extraction.text import TfidfVectorizer\n",
    "from sklearn.model_selection import train_test_split\n",
    "from sklearn.naive_bayes import MultinomialNB\n",
    "from sklearn.ensemble import RandomForestClassifier\n",
    "from sklearn.svm import SVC\n",
    "from sklearn.metrics import accuracy_score, classification_report\n",
    "\n",
    "import re\n",
    "import string"
   ]
  },
  {
   "cell_type": "markdown",
   "metadata": {},
   "source": [
    "Loading the dataset.\n",
    "Wealso add custom seperator, assign column names"
   ]
  },
  {
   "cell_type": "code",
   "execution_count": 11,
   "metadata": {},
   "outputs": [],
   "source": [
    "train_df = pd.read_csv(\"Genre Classification Dataset/train_data.txt\",sep=':::',names=['title','genre','desc'],engine='python')\n",
    "\n",
    "test_df = pd.read_csv(\"Genre Classification Dataset/test_data.txt\",sep=\":::\",names=['title','desc'],engine='python')\n",
    "\n",
    "test_sol_df = pd.read_csv(\"Genre Classification Dataset/test_data_solution.txt\",sep=\":::\",names=['title','genre','desc'],engine='python')\n",
    "\n",
    "# add seperator, give names urself, add engine condition to remove error"
   ]
  },
  {
   "cell_type": "code",
   "execution_count": 3,
   "metadata": {},
   "outputs": [
    {
     "data": {
      "text/plain": [
       "<bound method NDFrame.head of                                               title          genre  \\\n",
       "1                     Oscar et la dame rose (2009)          drama    \n",
       "2                                     Cupid (1997)       thriller    \n",
       "3                 Young, Wild and Wonderful (1980)          adult    \n",
       "4                            The Secret Sin (1915)          drama    \n",
       "5                           The Unrecovered (2007)          drama    \n",
       "...                                             ...            ...   \n",
       "54210                              \"Bonino\" (1953)         comedy    \n",
       "54211                  Dead Girls Don't Cry (????)         horror    \n",
       "54212    Ronald Goedemondt: Ze bestaan echt (2008)    documentary    \n",
       "54213                     Make Your Own Bed (1944)         comedy    \n",
       "54214   Nature's Fury: Storm of the Century (2006)        history    \n",
       "\n",
       "                                                    desc  \n",
       "1       Listening in to a conversation between his do...  \n",
       "2       A brother and sister with a past incestuous r...  \n",
       "3       As the bus empties the students for their fie...  \n",
       "4       To help their unemployed father make ends mee...  \n",
       "5       The film's title refers not only to the un-re...  \n",
       "...                                                  ...  \n",
       "54210   This short-lived NBC live sitcom centered on ...  \n",
       "54211   The NEXT Generation of EXPLOITATION. The sist...  \n",
       "54212   Ze bestaan echt, is a stand-up comedy about g...  \n",
       "54213   Walter and Vivian live in the country and hav...  \n",
       "54214   On Labor Day Weekend, 1935, the most intense ...  \n",
       "\n",
       "[54214 rows x 3 columns]>"
      ]
     },
     "execution_count": 3,
     "metadata": {},
     "output_type": "execute_result"
    }
   ],
   "source": [
    "train_df.head"
   ]
  },
  {
   "cell_type": "code",
   "execution_count": 4,
   "metadata": {},
   "outputs": [
    {
     "data": {
      "text/plain": [
       "<bound method NDFrame.head of                                   title  \\\n",
       "1                 Edgar's Lunch (1998)    \n",
       "2             La guerra de papá (1977)    \n",
       "3          Off the Beaten Track (2010)    \n",
       "4               Meu Amigo Hindu (2015)    \n",
       "5                    Er nu zhai (1955)    \n",
       "...                                 ...   \n",
       "54196   \"Tales of Light & Dark\" (2013)    \n",
       "54197      Der letzte Mohikaner (1965)    \n",
       "54198              Oliver Twink (2007)    \n",
       "54199                Slipstream (1973)    \n",
       "54200        Curitiba Zero Grau (2010)    \n",
       "\n",
       "                                                    desc  \n",
       "1       L.R. Brane loves his life - his car, his apar...  \n",
       "2       Spain, March 1964: Quico is a very naughty ch...  \n",
       "3       One year in the life of Albin and his family ...  \n",
       "4       His father has died, he hasn't spoken with hi...  \n",
       "5       Before he was known internationally as a mart...  \n",
       "...                                                  ...  \n",
       "54196   Covering multiple genres, Tales of Light & Da...  \n",
       "54197   As Alice and Cora Munro attempt to find their...  \n",
       "54198   A movie 169 years in the making. Oliver Twist...  \n",
       "54199   Popular, but mysterious rock D.J Mike Mallard...  \n",
       "54200   Curitiba is a city in movement, with rhythms ...  \n",
       "\n",
       "[54200 rows x 2 columns]>"
      ]
     },
     "execution_count": 4,
     "metadata": {},
     "output_type": "execute_result"
    }
   ],
   "source": [
    "test_df.head"
   ]
  },
  {
   "cell_type": "code",
   "execution_count": 5,
   "metadata": {},
   "outputs": [
    {
     "data": {
      "text/plain": [
       "<bound method NDFrame.head of                                   title          genre  \\\n",
       "1                 Edgar's Lunch (1998)       thriller    \n",
       "2             La guerra de papá (1977)         comedy    \n",
       "3          Off the Beaten Track (2010)    documentary    \n",
       "4               Meu Amigo Hindu (2015)          drama    \n",
       "5                    Er nu zhai (1955)          drama    \n",
       "...                                 ...            ...   \n",
       "54196   \"Tales of Light & Dark\" (2013)         horror    \n",
       "54197      Der letzte Mohikaner (1965)        western    \n",
       "54198              Oliver Twink (2007)          adult    \n",
       "54199                Slipstream (1973)          drama    \n",
       "54200        Curitiba Zero Grau (2010)          drama    \n",
       "\n",
       "                                                    desc  \n",
       "1       L.R. Brane loves his life - his car, his apar...  \n",
       "2       Spain, March 1964: Quico is a very naughty ch...  \n",
       "3       One year in the life of Albin and his family ...  \n",
       "4       His father has died, he hasn't spoken with hi...  \n",
       "5       Before he was known internationally as a mart...  \n",
       "...                                                  ...  \n",
       "54196   Covering multiple genres, Tales of Light & Da...  \n",
       "54197   As Alice and Cora Munro attempt to find their...  \n",
       "54198   A movie 169 years in the making. Oliver Twist...  \n",
       "54199   Popular, but mysterious rock D.J Mike Mallard...  \n",
       "54200   Curitiba is a city in movement, with rhythms ...  \n",
       "\n",
       "[54200 rows x 3 columns]>"
      ]
     },
     "execution_count": 5,
     "metadata": {},
     "output_type": "execute_result"
    }
   ],
   "source": [
    "test_sol_df.head"
   ]
  },
  {
   "cell_type": "markdown",
   "metadata": {},
   "source": [
    "Check null cells and remove if found any"
   ]
  },
  {
   "cell_type": "code",
   "execution_count": 6,
   "metadata": {},
   "outputs": [
    {
     "data": {
      "text/plain": [
       "title    0\n",
       "genre    0\n",
       "desc     0\n",
       "dtype: int64"
      ]
     },
     "execution_count": 6,
     "metadata": {},
     "output_type": "execute_result"
    }
   ],
   "source": [
    "train_df.isnull().sum()"
   ]
  },
  {
   "cell_type": "code",
   "execution_count": 7,
   "metadata": {},
   "outputs": [
    {
     "data": {
      "text/plain": [
       "title    0\n",
       "desc     0\n",
       "dtype: int64"
      ]
     },
     "execution_count": 7,
     "metadata": {},
     "output_type": "execute_result"
    }
   ],
   "source": [
    "test_df.isnull().sum()"
   ]
  },
  {
   "cell_type": "markdown",
   "metadata": {},
   "source": [
    "Basic visualization"
   ]
  },
  {
   "cell_type": "code",
   "execution_count": 8,
   "metadata": {},
   "outputs": [
    {
     "data": {
      "text/plain": [
       "genre\n",
       " drama           13613\n",
       " documentary     13096\n",
       " comedy           7447\n",
       " short            5073\n",
       " horror           2204\n",
       " thriller         1591\n",
       " action           1315\n",
       " western          1032\n",
       " reality-tv        884\n",
       " family            784\n",
       " adventure         775\n",
       " music             731\n",
       " romance           672\n",
       " sci-fi            647\n",
       " adult             590\n",
       " crime             505\n",
       " animation         498\n",
       " sport             432\n",
       " talk-show         391\n",
       " fantasy           323\n",
       " mystery           319\n",
       " musical           277\n",
       " biography         265\n",
       " history           243\n",
       " game-show         194\n",
       " news              181\n",
       " war               132\n",
       "Name: count, dtype: int64"
      ]
     },
     "execution_count": 8,
     "metadata": {},
     "output_type": "execute_result"
    }
   ],
   "source": [
    "genre_len = train_df['genre'].value_counts()\n",
    "genre_len"
   ]
  },
  {
   "cell_type": "code",
   "execution_count": 9,
   "metadata": {},
   "outputs": [],
   "source": [
    "genre_len = pd.Series.to_dict(genre_len)\n",
    "genre_name = list(genre_len.keys())\n",
    "genre_count = list(genre_len.values())"
   ]
  },
  {
   "cell_type": "code",
   "execution_count": 10,
   "metadata": {},
   "outputs": [
    {
     "data": {
      "image/png": "[encoded data removed]",
      "text/plain": [
       "<Figure size 1200x500 with 1 Axes>"
      ]
     },
     "metadata": {},
     "output_type": "display_data"
    }
   ],
   "source": [
    "fig = plt.figure(figsize=(12,5))\n",
    "plt.bar(genre_name,genre_count,color = 'blue',width = 0.6)\n",
    "plt.xticks(rotation = 90)\n",
    "plt.xlabel(\"Genre name\")\n",
    "plt.ylabel(\"Counts\")\n",
    "plt.title(\"Movie counts by genre\")\n",
    "plt.show()"
   ]
  },
  {
   "cell_type": "markdown",
   "metadata": {},
   "source": [
    "Data Preprocessing using SnowBall stemmer"
   ]
  },
  {
   "cell_type": "code",
   "execution_count": 12,
   "metadata": {},
   "outputs": [],
   "source": [
    "stemmer = SnowballStemmer(language='english')\n",
    "stop_words = stopwords.words('english')\n",
    "tfidf_vect = TfidfVectorizer()"
   ]
  },
  {
   "cell_type": "code",
   "execution_count": 13,
   "metadata": {},
   "outputs": [],
   "source": [
    "def stemming(txt):\n",
    "    templist=[]\n",
    "    for tokentxt in nltk.word_tokenize(txt):\n",
    "        templist.append(stemmer.stem(tokentxt))\n",
    "    return ' '.join(templist)\n",
    "\n",
    "def preprocesstext(txt):\n",
    "    tokentxt = txt.lower()\n",
    "    tokentxt = re.sub(r'http\\S+', '', tokentxt)\n",
    "    tokentxt = stemming(tokentxt)\n",
    "    tokentxt = ''.join(i for i in tokentxt if i not in string.punctuation)\n",
    "    tokentxt = nltk.word_tokenize(tokentxt)\n",
    "    tokentxt = ' '.join([i for i in tokentxt if i not in stop_words])\n",
    "\n",
    "    return tokentxt"
   ]
  },
  {
   "cell_type": "code",
   "execution_count": 14,
   "metadata": {},
   "outputs": [],
   "source": [
    "# g = preprocesstext(\"Listening in to a conversation between his doctor and parents, http://www.google, 10-year-old Oscar learns what nobody has the courage to tell him. He only has a few weeks to live. Furious, he refuses to speak to anyone except straight-talking Rose, the lady in pink he meets on the hospital stairs. As Christmas approaches, Rose uses her fantastical experiences as a professional wrestler, her imagination, wit and charm to allow Oscar to live life and love to the full, in the company of his friends Pop Corn, Einstein, Bacon and childhood sweetheart Peggy Blue.\")\n",
    "# g"
   ]
  },
  {
   "cell_type": "code",
   "execution_count": 15,
   "metadata": {},
   "outputs": [],
   "source": [
    "train_df['preprocessed_text'] = train_df['desc'].apply(preprocesstext)\n",
    "test_df['preprocessed_text'] = test_df['desc'].apply(preprocesstext)"
   ]
  },
  {
   "cell_type": "markdown",
   "metadata": {},
   "source": [
    "TFIDF"
   ]
  },
  {
   "cell_type": "code",
   "execution_count": 16,
   "metadata": {},
   "outputs": [],
   "source": [
    "X_tf_train = tfidf_vect.fit_transform(train_df['preprocessed_text'])\n",
    "X_tf_test = tfidf_vect.transform(test_df['preprocessed_text'])"
   ]
  },
  {
   "cell_type": "markdown",
   "metadata": {},
   "source": [
    "Splitting"
   ]
  },
  {
   "cell_type": "code",
   "execution_count": 17,
   "metadata": {},
   "outputs": [],
   "source": [
    "X_train,X_test,y_train,y_test = train_test_split(X_tf_train,train_df['genre'],test_size=0.2,random_state=5)"
   ]
  },
  {
   "cell_type": "markdown",
   "metadata": {},
   "source": [
    "Create a basic Multinomial Naive Bayes model"
   ]
  },
  {
   "cell_type": "code",
   "execution_count": 18,
   "metadata": {},
   "outputs": [
    {
     "name": "stdout",
     "output_type": "stream",
     "text": [
      "Model Score: 0.462405754997579\n",
      "Validation Accuracy: 0.44212856220603153\n",
      "               precision    recall  f1-score   support\n",
      "\n",
      "      action        0.00      0.00      0.00       260\n",
      "       adult        0.00      0.00      0.00        96\n",
      "   adventure        0.00      0.00      0.00       158\n",
      "   animation        0.00      0.00      0.00        86\n",
      "   biography        0.00      0.00      0.00        54\n",
      "      comedy        0.67      0.03      0.06      1513\n",
      "       crime        0.00      0.00      0.00       113\n",
      " documentary        0.51      0.90      0.65      2615\n",
      "       drama        0.39      0.86      0.53      2767\n",
      "      family        0.00      0.00      0.00       162\n",
      "     fantasy        0.00      0.00      0.00        59\n",
      "   game-show        0.00      0.00      0.00        42\n",
      "     history        0.00      0.00      0.00        48\n",
      "      horror        0.00      0.00      0.00       444\n",
      "       music        0.00      0.00      0.00       156\n",
      "     musical        0.00      0.00      0.00        44\n",
      "     mystery        0.00      0.00      0.00        61\n",
      "        news        0.00      0.00      0.00        28\n",
      "  reality-tv        0.00      0.00      0.00       182\n",
      "     romance        0.00      0.00      0.00       120\n",
      "      sci-fi        0.00      0.00      0.00       112\n",
      "       short        0.00      0.00      0.00       991\n",
      "       sport        0.00      0.00      0.00        93\n",
      "   talk-show        0.00      0.00      0.00        90\n",
      "    thriller        0.00      0.00      0.00       329\n",
      "         war        0.00      0.00      0.00        26\n",
      "     western        0.00      0.00      0.00       194\n",
      "\n",
      "     accuracy                           0.44     10843\n",
      "    macro avg       0.06      0.07      0.05     10843\n",
      " weighted avg       0.32      0.44      0.30     10843\n",
      "\n"
     ]
    },
    {
     "name": "stderr",
     "output_type": "stream",
     "text": [
      "C:\\Users\\sidum\\AppData\\Local\\Packages\\PythonSoftwareFoundation.Python.3.11_qbz5n2kfra8p0\\LocalCache\\local-packages\\Python311\\site-packages\\sklearn\\metrics\\_classification.py:1469: UndefinedMetricWarning: Precision and F-score are ill-defined and being set to 0.0 in labels with no predicted samples. Use `zero_division` parameter to control this behavior.\n",
      "  _warn_prf(average, modifier, msg_start, len(result))\n",
      "C:\\Users\\sidum\\AppData\\Local\\Packages\\PythonSoftwareFoundation.Python.3.11_qbz5n2kfra8p0\\LocalCache\\local-packages\\Python311\\site-packages\\sklearn\\metrics\\_classification.py:1469: UndefinedMetricWarning: Precision and F-score are ill-defined and being set to 0.0 in labels with no predicted samples. Use `zero_division` parameter to control this behavior.\n",
      "  _warn_prf(average, modifier, msg_start, len(result))\n",
      "C:\\Users\\sidum\\AppData\\Local\\Packages\\PythonSoftwareFoundation.Python.3.11_qbz5n2kfra8p0\\LocalCache\\local-packages\\Python311\\site-packages\\sklearn\\metrics\\_classification.py:1469: UndefinedMetricWarning: Precision and F-score are ill-defined and being set to 0.0 in labels with no predicted samples. Use `zero_division` parameter to control this behavior.\n",
      "  _warn_prf(average, modifier, msg_start, len(result))\n"
     ]
    }
   ],
   "source": [
    "classifier = MultinomialNB()\n",
    "classifier.fit(X_train, y_train)\n",
    "\n",
    "y_pred = classifier.predict(X_test)\n",
    "\n",
    "accuracy = accuracy_score(y_test, y_pred)\n",
    "print(\"Model Score:\", classifier.score(X_train,y_train))\n",
    "print(\"Validation Accuracy:\", accuracy)\n",
    "print(classification_report(y_test, y_pred))"
   ]
  },
  {
   "cell_type": "code",
   "execution_count": 18,
   "metadata": {},
   "outputs": [],
   "source": [
    "classifier2 = SVC(C=0.5,kernel='linear')\n",
    "classifier2.fit(X_train, y_train)\n",
    "\n",
    "y_pred = classifier2.predict(X_test)\n",
    "\n",
    "accuracy = accuracy_score(y_test, y_pred)\n",
    "print(\"Model Score:\", classifier2.score(X_train,y_train))\n",
    "print(\"validation Accuracy:\", accuracy)\n",
    "print(classification_report(y_test, y_pred))"
   ]
  },
  {
   "cell_type": "code",
   "execution_count": 19,
   "metadata": {},
   "outputs": [
    {
     "name": "stdout",
     "output_type": "stream",
     "text": [
      "Model Score: 0.5142837379816007\n",
      "Validation Accuracy: 0.42958590795905194\n",
      "               precision    recall  f1-score   support\n",
      "\n",
      "      action        0.00      0.00      0.00       260\n",
      "       adult        0.00      0.00      0.00        96\n",
      "   adventure        0.00      0.00      0.00       158\n",
      "   animation        0.00      0.00      0.00        86\n",
      "   biography        0.00      0.00      0.00        54\n",
      "      comedy        0.87      0.02      0.04      1513\n",
      "       crime        0.00      0.00      0.00       113\n",
      " documentary        0.49      0.89      0.63      2615\n",
      "       drama        0.38      0.83      0.52      2767\n",
      "      family        0.00      0.00      0.00       162\n",
      "     fantasy        0.00      0.00      0.00        59\n",
      "   game-show        1.00      0.12      0.21        42\n",
      "     history        0.00      0.00      0.00        48\n",
      "      horror        1.00      0.00      0.00       444\n",
      "       music        0.00      0.00      0.00       156\n",
      "     musical        0.00      0.00      0.00        44\n",
      "     mystery        0.00      0.00      0.00        61\n",
      "        news        0.00      0.00      0.00        28\n",
      "  reality-tv        0.00      0.00      0.00       182\n",
      "     romance        0.00      0.00      0.00       120\n",
      "      sci-fi        0.00      0.00      0.00       112\n",
      "       short        0.00      0.00      0.00       991\n",
      "       sport        0.00      0.00      0.00        93\n",
      "   talk-show        0.00      0.00      0.00        90\n",
      "    thriller        0.00      0.00      0.00       329\n",
      "         war        0.00      0.00      0.00        26\n",
      "     western        1.00      0.06      0.11       194\n",
      "\n",
      "     accuracy                           0.43     10843\n",
      "    macro avg       0.18      0.07      0.06     10843\n",
      " weighted avg       0.40      0.43      0.29     10843\n",
      "\n"
     ]
    },
    {
     "name": "stderr",
     "output_type": "stream",
     "text": [
      "C:\\Users\\sidum\\AppData\\Local\\Packages\\PythonSoftwareFoundation.Python.3.11_qbz5n2kfra8p0\\LocalCache\\local-packages\\Python311\\site-packages\\sklearn\\metrics\\_classification.py:1469: UndefinedMetricWarning: Precision and F-score are ill-defined and being set to 0.0 in labels with no predicted samples. Use `zero_division` parameter to control this behavior.\n",
      "  _warn_prf(average, modifier, msg_start, len(result))\n",
      "C:\\Users\\sidum\\AppData\\Local\\Packages\\PythonSoftwareFoundation.Python.3.11_qbz5n2kfra8p0\\LocalCache\\local-packages\\Python311\\site-packages\\sklearn\\metrics\\_classification.py:1469: UndefinedMetricWarning: Precision and F-score are ill-defined and being set to 0.0 in labels with no predicted samples. Use `zero_division` parameter to control this behavior.\n",
      "  _warn_prf(average, modifier, msg_start, len(result))\n",
      "C:\\Users\\sidum\\AppData\\Local\\Packages\\PythonSoftwareFoundation.Python.3.11_qbz5n2kfra8p0\\LocalCache\\local-packages\\Python311\\site-packages\\sklearn\\metrics\\_classification.py:1469: UndefinedMetricWarning: Precision and F-score are ill-defined and being set to 0.0 in labels with no predicted samples. Use `zero_division` parameter to control this behavior.\n",
      "  _warn_prf(average, modifier, msg_start, len(result))\n"
     ]
    }
   ],
   "source": [
    "classifier3 = RandomForestClassifier(n_estimators=50, criterion='entropy', max_depth=27)\n",
    "classifier3.fit(X_train,y_train)\n",
    "\n",
    "y_pred = classifier3.predict(X_test)\n",
    "\n",
    "accuracy = accuracy_score(y_test, y_pred)\n",
    "print(\"Model Score:\", classifier3.score(X_train,y_train))\n",
    "print(\"Validation Accuracy:\", accuracy)\n",
    "print(classification_report(y_test, y_pred))"
   ]
  },
  {
   "cell_type": "markdown",
   "metadata": {},
   "source": [
    "We split the test with sol data to verify the model accuracy. We can compare our prediction values with ones already known"
   ]
  },
  {
   "cell_type": "code",
   "execution_count": 20,
   "metadata": {},
   "outputs": [],
   "source": [
    "X_train,X_test,y_train,y_test = train_test_split(X_tf_test,test_sol_df['genre'],test_size=0.99,random_state=5)"
   ]
  },
  {
   "cell_type": "code",
   "execution_count": 21,
   "metadata": {},
   "outputs": [
    {
     "name": "stdout",
     "output_type": "stream",
     "text": [
      "Model Score: 0.488929889298893\n",
      "Validation Accuracy: 0.437940288493794\n"
     ]
    },
    {
     "name": "stderr",
     "output_type": "stream",
     "text": [
      "C:\\Users\\sidum\\AppData\\Local\\Packages\\PythonSoftwareFoundation.Python.3.11_qbz5n2kfra8p0\\LocalCache\\local-packages\\Python311\\site-packages\\sklearn\\metrics\\_classification.py:1469: UndefinedMetricWarning: Precision and F-score are ill-defined and being set to 0.0 in labels with no predicted samples. Use `zero_division` parameter to control this behavior.\n",
      "  _warn_prf(average, modifier, msg_start, len(result))\n"
     ]
    },
    {
     "name": "stdout",
     "output_type": "stream",
     "text": [
      "               precision    recall  f1-score   support\n",
      "\n",
      "      action        0.00      0.00      0.00      1306\n",
      "       adult        0.00      0.00      0.00       586\n",
      "   adventure        0.00      0.00      0.00       767\n",
      "   animation        0.00      0.00      0.00       489\n",
      "   biography        0.00      0.00      0.00       260\n",
      "      comedy        0.75      0.03      0.06      7378\n",
      "       crime        0.00      0.00      0.00       500\n",
      " documentary        0.52      0.90      0.65     12949\n",
      "       drama        0.38      0.87      0.53     13467\n",
      "      family        0.00      0.00      0.00       775\n",
      "     fantasy        0.00      0.00      0.00       321\n",
      "   game-show        0.00      0.00      0.00       193\n",
      "     history        0.00      0.00      0.00       240\n",
      "      horror        0.00      0.00      0.00      2171\n",
      "       music        0.00      0.00      0.00       728\n",
      "     musical        0.00      0.00      0.00       273\n",
      "     mystery        0.00      0.00      0.00       317\n",
      "        news        0.00      0.00      0.00       179\n",
      "  reality-tv        0.00      0.00      0.00       878\n",
      "     romance        0.00      0.00      0.00       667\n",
      "      sci-fi        0.00      0.00      0.00       641\n",
      "       short        1.00      0.00      0.00      5031\n",
      "       sport        0.00      0.00      0.00       427\n",
      "   talk-show        0.00      0.00      0.00       389\n",
      "    thriller        0.00      0.00      0.00      1568\n",
      "         war        0.00      0.00      0.00       131\n",
      "     western        1.00      0.00      0.00      1027\n",
      "\n",
      "     accuracy                           0.44     53658\n",
      "    macro avg       0.13      0.07      0.05     53658\n",
      " weighted avg       0.44      0.44      0.30     53658\n",
      "\n"
     ]
    },
    {
     "name": "stderr",
     "output_type": "stream",
     "text": [
      "C:\\Users\\sidum\\AppData\\Local\\Packages\\PythonSoftwareFoundation.Python.3.11_qbz5n2kfra8p0\\LocalCache\\local-packages\\Python311\\site-packages\\sklearn\\metrics\\_classification.py:1469: UndefinedMetricWarning: Precision and F-score are ill-defined and being set to 0.0 in labels with no predicted samples. Use `zero_division` parameter to control this behavior.\n",
      "  _warn_prf(average, modifier, msg_start, len(result))\n",
      "C:\\Users\\sidum\\AppData\\Local\\Packages\\PythonSoftwareFoundation.Python.3.11_qbz5n2kfra8p0\\LocalCache\\local-packages\\Python311\\site-packages\\sklearn\\metrics\\_classification.py:1469: UndefinedMetricWarning: Precision and F-score are ill-defined and being set to 0.0 in labels with no predicted samples. Use `zero_division` parameter to control this behavior.\n",
      "  _warn_prf(average, modifier, msg_start, len(result))\n"
     ]
    }
   ],
   "source": [
    "y_pred = classifier.predict(X_test)\n",
    "\n",
    "accuracy = accuracy_score(y_test, y_pred)\n",
    "print(\"Model Score:\", classifier.score(X_train,y_train))\n",
    "print(\"Validation Accuracy:\", accuracy)\n",
    "print(classification_report(y_test, y_pred))"
   ]
  },
  {
   "cell_type": "code",
   "execution_count": 22,
   "metadata": {},
   "outputs": [],
   "source": [
    "y_pred = classifier2.predict(X_test)\n",
    "\n",
    "accuracy = accuracy_score(y_test, y_pred)\n",
    "print(\"Model Score:\", classifier2.score(X_train,y_train))\n",
    "print(\"Validation Accuracy:\", accuracy)\n",
    "print(classification_report(y_test, y_pred))"
   ]
  },
  {
   "cell_type": "code",
   "execution_count": 23,
   "metadata": {},
   "outputs": [
    {
     "name": "stdout",
     "output_type": "stream",
     "text": [
      "Model Score: 0.45571955719557194\n",
      "Validation Accuracy: 0.4252860710425286\n"
     ]
    },
    {
     "name": "stderr",
     "output_type": "stream",
     "text": [
      "C:\\Users\\sidum\\AppData\\Local\\Packages\\PythonSoftwareFoundation.Python.3.11_qbz5n2kfra8p0\\LocalCache\\local-packages\\Python311\\site-packages\\sklearn\\metrics\\_classification.py:1469: UndefinedMetricWarning: Precision and F-score are ill-defined and being set to 0.0 in labels with no predicted samples. Use `zero_division` parameter to control this behavior.\n",
      "  _warn_prf(average, modifier, msg_start, len(result))\n",
      "C:\\Users\\sidum\\AppData\\Local\\Packages\\PythonSoftwareFoundation.Python.3.11_qbz5n2kfra8p0\\LocalCache\\local-packages\\Python311\\site-packages\\sklearn\\metrics\\_classification.py:1469: UndefinedMetricWarning: Precision and F-score are ill-defined and being set to 0.0 in labels with no predicted samples. Use `zero_division` parameter to control this behavior.\n",
      "  _warn_prf(average, modifier, msg_start, len(result))\n"
     ]
    },
    {
     "name": "stdout",
     "output_type": "stream",
     "text": [
      "               precision    recall  f1-score   support\n",
      "\n",
      "      action        0.00      0.00      0.00      1306\n",
      "       adult        0.00      0.00      0.00       586\n",
      "   adventure        1.00      0.00      0.01       767\n",
      "   animation        0.00      0.00      0.00       489\n",
      "   biography        0.00      0.00      0.00       260\n",
      "      comedy        0.79      0.02      0.04      7378\n",
      "       crime        0.00      0.00      0.00       500\n",
      " documentary        0.49      0.87      0.63     12949\n",
      "       drama        0.37      0.83      0.52     13467\n",
      "      family        0.00      0.00      0.00       775\n",
      "     fantasy        0.00      0.00      0.00       321\n",
      "   game-show        1.00      0.06      0.12       193\n",
      "     history        0.00      0.00      0.00       240\n",
      "      horror        1.00      0.00      0.00      2171\n",
      "       music        1.00      0.00      0.01       728\n",
      "     musical        0.00      0.00      0.00       273\n",
      "     mystery        0.00      0.00      0.00       317\n",
      "        news        0.00      0.00      0.00       179\n",
      "  reality-tv        0.00      0.00      0.00       878\n",
      "     romance        0.00      0.00      0.00       667\n",
      "      sci-fi        0.00      0.00      0.00       641\n",
      "       short        1.00      0.00      0.00      5031\n",
      "       sport        0.00      0.00      0.00       427\n",
      "   talk-show        0.00      0.00      0.00       389\n",
      "    thriller        0.00      0.00      0.00      1568\n",
      "         war        0.00      0.00      0.00       131\n",
      "     western        1.00      0.08      0.15      1027\n",
      "\n",
      "     accuracy                           0.43     53658\n",
      "    macro avg       0.28      0.07      0.05     53658\n",
      " weighted avg       0.50      0.43      0.29     53658\n",
      "\n"
     ]
    },
    {
     "name": "stderr",
     "output_type": "stream",
     "text": [
      "C:\\Users\\sidum\\AppData\\Local\\Packages\\PythonSoftwareFoundation.Python.3.11_qbz5n2kfra8p0\\LocalCache\\local-packages\\Python311\\site-packages\\sklearn\\metrics\\_classification.py:1469: UndefinedMetricWarning: Precision and F-score are ill-defined and being set to 0.0 in labels with no predicted samples. Use `zero_division` parameter to control this behavior.\n",
      "  _warn_prf(average, modifier, msg_start, len(result))\n"
     ]
    }
   ],
   "source": [
    "y_pred = classifier3.predict(X_test)\n",
    "\n",
    "accuracy = accuracy_score(y_test, y_pred)\n",
    "print(\"Model Score:\", classifier3.score(X_train,y_train))\n",
    "print(\"Validation Accuracy:\", accuracy)\n",
    "print(classification_report(y_test, y_pred))"
   ]
  },
  {
   "cell_type": "markdown",
   "metadata": {},
   "source": [
    "Use tensorflow model"
   ]
  },
  {
   "cell_type": "code",
   "execution_count": 24,
   "metadata": {},
   "outputs": [
    {
     "name": "stdout",
     "output_type": "stream",
     "text": [
      "WARNING:tensorflow:From C:\\Users\\sidum\\AppData\\Local\\Packages\\PythonSoftwareFoundation.Python.3.11_qbz5n2kfra8p0\\LocalCache\\local-packages\\Python311\\site-packages\\keras\\src\\losses.py:2976: The name tf.losses.sparse_softmax_cross_entropy is deprecated. Please use tf.compat.v1.losses.sparse_softmax_cross_entropy instead.\n",
      "\n"
     ]
    }
   ],
   "source": [
    "from tensorflow.keras.preprocessing.sequence import pad_sequences\n",
    "from tensorflow.keras.preprocessing.text import Tokenizer\n",
    "from tensorflow.keras.models import Sequential\n",
    "from tensorflow.keras.layers import Embedding, LSTM, Dense, Dropout, SpatialDropout1D"
   ]
  },
  {
   "cell_type": "code",
   "execution_count": 25,
   "metadata": {},
   "outputs": [],
   "source": [
    "word_num = 20000\n",
    "max_len = 200\n",
    "\n",
    "embed_dim = 100\n",
    "\n",
    "tokenizer = Tokenizer(num_words=word_num)"
   ]
  },
  {
   "cell_type": "code",
   "execution_count": 26,
   "metadata": {},
   "outputs": [],
   "source": [
    "X = tokenizer.texts_to_sequences(train_df['preprocessed_text'].values)\n",
    "X = pad_sequences(X, maxlen=max_len)\n",
    "\n",
    "y = pd.get_dummies(train_df['genre'].values)"
   ]
  },
  {
   "cell_type": "code",
   "execution_count": 27,
   "metadata": {},
   "outputs": [],
   "source": [
    "X_test_tf = tokenizer.texts_to_sequences(test_df['preprocessed_text'].values)\n",
    "X_test_tf = pad_sequences(X_test_tf,maxlen=max_len)\n",
    "\n",
    "y_test_tf = pd.get_dummies(test_sol_df['genre'].values)"
   ]
  },
  {
   "cell_type": "code",
   "execution_count": 28,
   "metadata": {},
   "outputs": [
    {
     "name": "stdout",
     "output_type": "stream",
     "text": [
      "WARNING:tensorflow:From C:\\Users\\sidum\\AppData\\Local\\Packages\\PythonSoftwareFoundation.Python.3.11_qbz5n2kfra8p0\\LocalCache\\local-packages\\Python311\\site-packages\\keras\\src\\backend.py:873: The name tf.get_default_graph is deprecated. Please use tf.compat.v1.get_default_graph instead.\n",
      "\n",
      "WARNING:tensorflow:From C:\\Users\\sidum\\AppData\\Local\\Packages\\PythonSoftwareFoundation.Python.3.11_qbz5n2kfra8p0\\LocalCache\\local-packages\\Python311\\site-packages\\keras\\src\\optimizers\\__init__.py:309: The name tf.train.Optimizer is deprecated. Please use tf.compat.v1.train.Optimizer instead.\n",
      "\n"
     ]
    }
   ],
   "source": [
    "model = Sequential()\n",
    "model.add(Embedding(word_num, embed_dim, input_length=X.shape[1]))\n",
    "model.add(SpatialDropout1D(0.2))\n",
    "model.add(LSTM(100, dropout=0.1, recurrent_dropout=0.2))\n",
    "model.add(Dense(256, activation='relu'))\n",
    "model.add(Dropout(0.2))\n",
    "model.add(Dense(27, activation='softmax'))\n",
    "model.compile(loss='categorical_crossentropy', optimizer='adam', metrics=['accuracy'])"
   ]
  },
  {
   "cell_type": "code",
   "execution_count": 29,
   "metadata": {},
   "outputs": [
    {
     "name": "stdout",
     "output_type": "stream",
     "text": [
      "Epoch 1/10\n",
      "WARNING:tensorflow:From C:\\Users\\sidum\\AppData\\Local\\Packages\\PythonSoftwareFoundation.Python.3.11_qbz5n2kfra8p0\\LocalCache\\local-packages\\Python311\\site-packages\\keras\\src\\utils\\tf_utils.py:492: The name tf.ragged.RaggedTensorValue is deprecated. Please use tf.compat.v1.ragged.RaggedTensorValue instead.\n",
      "\n",
      "WARNING:tensorflow:From C:\\Users\\sidum\\AppData\\Local\\Packages\\PythonSoftwareFoundation.Python.3.11_qbz5n2kfra8p0\\LocalCache\\local-packages\\Python311\\site-packages\\keras\\src\\engine\\base_layer_utils.py:384: The name tf.executing_eagerly_outside_functions is deprecated. Please use tf.compat.v1.executing_eagerly_outside_functions instead.\n",
      "\n",
      "1695/1695 [==============================] - 348s 203ms/step - loss: 2.3652 - accuracy: 0.2486 - val_loss: 2.3449 - val_accuracy: 0.2416\n",
      "Epoch 2/10\n",
      "1695/1695 [==============================] - 337s 199ms/step - loss: 2.3511 - accuracy: 0.2479 - val_loss: 2.3464 - val_accuracy: 0.2416\n",
      "Epoch 3/10\n",
      "1695/1695 [==============================] - 333s 196ms/step - loss: 2.3494 - accuracy: 0.2466 - val_loss: 2.3485 - val_accuracy: 0.2511\n",
      "Epoch 4/10\n",
      "1695/1695 [==============================] - 333s 196ms/step - loss: 2.3485 - accuracy: 0.2479 - val_loss: 2.3440 - val_accuracy: 0.2511\n",
      "Epoch 5/10\n",
      "1695/1695 [==============================] - 339s 200ms/step - loss: 2.3477 - accuracy: 0.2476 - val_loss: 2.3428 - val_accuracy: 0.2416\n",
      "Epoch 6/10\n",
      "1695/1695 [==============================] - 335s 198ms/step - loss: 2.3467 - accuracy: 0.2475 - val_loss: 2.3447 - val_accuracy: 0.2416\n",
      "Epoch 7/10\n",
      "1695/1695 [==============================] - 331s 195ms/step - loss: 2.3464 - accuracy: 0.2484 - val_loss: 2.3421 - val_accuracy: 0.2511\n",
      "Epoch 8/10\n",
      "1695/1695 [==============================] - 334s 197ms/step - loss: 2.3455 - accuracy: 0.2500 - val_loss: 2.3413 - val_accuracy: 0.2511\n",
      "Epoch 9/10\n",
      "1695/1695 [==============================] - 328s 193ms/step - loss: 2.3453 - accuracy: 0.2483 - val_loss: 2.3435 - val_accuracy: 0.2511\n",
      "Epoch 10/10\n",
      "1695/1695 [==============================] - 392s 231ms/step - loss: 2.3445 - accuracy: 0.2470 - val_loss: 2.3411 - val_accuracy: 0.2511\n"
     ]
    }
   ],
   "source": [
    "history = model.fit(X, y, epochs=10, batch_size=32, validation_data=(X_test_tf,y_test_tf))"
   ]
  },
  {
   "cell_type": "code",
   "execution_count": 30,
   "metadata": {},
   "outputs": [
    {
     "data": {
      "image/png": "[encoded data removed]",
      "text/plain": [
       "<Figure size 640x480 with 1 Axes>"
      ]
     },
     "metadata": {},
     "output_type": "display_data"
    },
    {
     "data": {
      "image/png": "[encoded data removed]",
      "text/plain": [
       "<Figure size 640x480 with 1 Axes>"
      ]
     },
     "metadata": {},
     "output_type": "display_data"
    }
   ],
   "source": [
    "plt.plot(history.history['accuracy'])\n",
    "plt.plot(history.history['val_accuracy'])\n",
    "plt.title('model accuracy')\n",
    "plt.ylabel('accuracy')\n",
    "plt.xlabel('epoch')\n",
    "plt.legend(['train', 'validation'], loc='upper left')\n",
    "plt.show()\n",
    "\n",
    "# Loss plot\n",
    "plt.plot(history.history['loss'])\n",
    "plt.plot(history.history['val_loss'])\n",
    "plt.title('model loss')\n",
    "plt.ylabel('loss')\n",
    "plt.xlabel('epoch')\n",
    "plt.legend(['train', 'validation'], loc='upper left')\n",
    "plt.show()\n"
   ]
  },
  {
   "cell_type": "code",
   "execution_count": 31,
   "metadata": {},
   "outputs": [],
   "source": [
    "model2 = Sequential()\n",
    "model2.add(Embedding(word_num, embed_dim, input_length=X.shape[1]))\n",
    "model2.add(SpatialDropout1D(0.2))\n",
    "#model2.add(LSTM(100, dropout=0.1, recurrent_dropout=0.2))\n",
    "#model2.add(Dense(256, activation='relu'))\n",
    "model2.add(Dense(100, activation='sigmoid'))\n",
    "#model2.add(Dropout(0.2))\n",
    "model2.add(Dense(27, activation='softmax'))\n",
    "model2.compile(loss='categorical_crossentropy', optimizer='adam', metrics=['accuracy'])"
   ]
  },
  {
   "cell_type": "code",
   "execution_count": null,
   "metadata": {},
   "outputs": [],
   "source": [
    "history2 = model.fit(X, y, epochs=10, batch_size=32, validation_data=(X_test_tf,y_test_tf))"
   ]
  },
  {
   "cell_type": "code",
   "execution_count": null,
   "metadata": {},
   "outputs": [],
   "source": [
    "plt.plot(history2.history['accuracy'])\n",
    "plt.plot(history2.history['val_accuracy'])\n",
    "plt.title('model accuracy')\n",
    "plt.ylabel('accuracy')\n",
    "plt.xlabel('epoch')\n",
    "plt.legend(['train', 'validation'], loc='upper left')\n",
    "plt.show()\n",
    "\n",
    "# Loss plot\n",
    "plt.plot(history2.history['loss'])\n",
    "plt.plot(history2.history['val_loss'])\n",
    "plt.title('model loss')\n",
    "plt.ylabel('loss')\n",
    "plt.xlabel('epoch')\n",
    "plt.legend(['train', 'validation'], loc='upper left')\n",
    "plt.show()\n"
   ]
  },
  {
   "cell_type": "code",
   "execution_count": null,
   "metadata": {},
   "outputs": [],
   "source": [
    "# on my laptop model2 doesnt pass over 0.20, "
   ]
  },
  {
   "cell_type": "markdown",
   "metadata": {},
   "source": [
    "Manual movie test"
   ]
  },
  {
   "cell_type": "code",
   "execution_count": 41,
   "metadata": {},
   "outputs": [],
   "source": [
    "def predict_movie_genre(name, desc):\n",
    "    df = [[name, desc]]\n",
    "    df = pd.DataFrame(df, columns=[\"name\",\"desc\"] )\n",
    "    df[\"preprocessed_text\"] = df[\"desc\"].apply(preprocesstext)\n",
    "    test = tfidf_vect.transform(df['preprocessed_text'])\n",
    "    pred = classifier.predict(test)\n",
    "    print(pred)"
   ]
  },
  {
   "cell_type": "code",
   "execution_count": null,
   "metadata": {},
   "outputs": [],
   "source": [
    "name = input(\"Enter the name of movie: \")\n",
    "desc = input(\"Enter the description of movie: \")\n",
    "\n",
    "predict_movie_genre(name, desc)"
   ]
  }
 ],
 "metadata": {
  "kernelspec": {
   "display_name": "Python 3",
   "language": "python",
   "name": "python3"
  },
  "language_info": {
   "codemirror_mode": {
    "name": "ipython",
    "version": 3
   },
   "file_extension": ".py",
   "mimetype": "text/x-python",
   "name": "python",
   "nbconvert_exporter": "python",
   "pygments_lexer": "ipython3",
   "version": "3.11.9"
  }
 },
 "nbformat": 4,
 "nbformat_minor": 2
}
